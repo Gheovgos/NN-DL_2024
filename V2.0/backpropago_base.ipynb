{
 "cells": [
  {
   "cell_type": "code",
   "execution_count": 1,
   "metadata": {},
   "outputs": [],
   "source": [
    "import torch\n",
    "import torch.nn as nn\n",
    "import torch.optim as optim\n",
    "import torchvision\n",
    "import torchvision.transforms.v2 as transforms\n",
    "from datetime import datetime"
   ]
  },
  {
   "cell_type": "code",
   "execution_count": 2,
   "metadata": {},
   "outputs": [
    {
     "name": "stdout",
     "output_type": "stream",
     "text": [
      "Using cuda device\n"
     ]
    }
   ],
   "source": [
    "device = (\n",
    "    \"cuda\"\n",
    "    if torch.cuda.is_available()\n",
    "    else \"mps\"\n",
    "    if torch.backends.mps.is_available()\n",
    "    else \"cpu\"\n",
    ")\n",
    "print(f\"Using {device} device\")"
   ]
  },
  {
   "cell_type": "code",
   "execution_count": 3,
   "metadata": {},
   "outputs": [],
   "source": [
    "transform = transforms.Compose([\n",
    "    transforms.ToImage(),\n",
    "    transforms.ToDtype(torch.float32, scale=True),\n",
    "    transforms.Normalize((0.5,), (0.5,))\n",
    "])"
   ]
  },
  {
   "cell_type": "code",
   "execution_count": 4,
   "metadata": {},
   "outputs": [],
   "source": [
    "train_data = torchvision.datasets.MNIST(root='../data', train=True, transform=transform, download=True)\n",
    "test_data = torchvision.datasets.MNIST(root='../data', train=False, transform=transform, download=True)\n",
    "\n",
    "train_loader = torch.utils.data.DataLoader(train_data, batch_size=128, shuffle=True, num_workers=2)\n",
    "test_loader = torch.utils.data.DataLoader(test_data, batch_size=128, shuffle=True, num_workers=2)"
   ]
  },
  {
   "cell_type": "code",
   "execution_count": 5,
   "metadata": {},
   "outputs": [],
   "source": [
    "class ShallowNet(nn.Module):\n",
    "    def __init__(self, n_nodes):\n",
    "        super().__init__()\n",
    "        self.flatten = nn.Flatten()\n",
    "        self.fc1 = nn.Linear(28 * 28, n_nodes)\n",
    "        self.relu = nn.ReLU()\n",
    "        self.fc2 = nn.Linear(n_nodes, 10)\n",
    "\n",
    "    def forward(self, x):\n",
    "        x = self.flatten(x)\n",
    "        x = self.fc1(x)\n",
    "        x = self.relu(x)\n",
    "        x = self.fc2(x)\n",
    "        return x"
   ]
  },
  {
   "cell_type": "code",
   "execution_count": 7,
   "metadata": {},
   "outputs": [],
   "source": [
    "n_nodes = 256\n",
    "\n",
    "net = ShallowNet(n_nodes=n_nodes).to(device)\n",
    "loss_function = nn.CrossEntropyLoss()\n",
    "optimizer = optim.Rprop(net.parameters(), lr=0.01)"
   ]
  },
  {
   "cell_type": "code",
   "execution_count": 8,
   "metadata": {},
   "outputs": [],
   "source": [
    "def train_loop(running_loss, train_loader):\n",
    "    for i, data in enumerate(train_loader):\n",
    "            inputs, labels = data\n",
    "            inputs, labels = inputs.to(device), labels.to(device)\n",
    "\n",
    "            optimizer.zero_grad()\n",
    "            \n",
    "            outputs = net(inputs)\n",
    "            \n",
    "            loss = loss_function(outputs, labels)\n",
    "            loss.backward()\n",
    "            optimizer.step() \n",
    "        \n",
    "            running_loss += loss.item()\n",
    "    return running_loss"
   ]
  },
  {
   "cell_type": "code",
   "execution_count": 9,
   "metadata": {},
   "outputs": [],
   "source": [
    "def test_loop(test_loader):\n",
    "    correct = 0\n",
    "    total = 0\n",
    "    test_loss = 0.0\n",
    "\n",
    "    net.eval()\n",
    "    with torch.no_grad():\n",
    "        for data in test_loader:\n",
    "            images, labels = data\n",
    "            images, labels = images.to(device), labels.to(device)\n",
    "\n",
    "            outputs = net(images)\n",
    "            _, prediction = torch.max(outputs, 1)\n",
    "            total += labels.size(0)\n",
    "\n",
    "            loss = loss_function(outputs, labels)\n",
    "            test_loss += loss.item() * images.size(0)\n",
    "\n",
    "            correct += (prediction == labels).sum().item()\n",
    "\n",
    "    accuracy = 100 * correct / total\n",
    "    test_loss /= len(test_loader)\n",
    "    return test_loss, accuracy\n"
   ]
  },
  {
   "cell_type": "code",
   "execution_count": 10,
   "metadata": {},
   "outputs": [
    {
     "name": "stdout",
     "output_type": "stream",
     "text": [
      "Using optim: Rprop (\n",
      "Parameter Group 0\n",
      "    capturable: False\n",
      "    differentiable: False\n",
      "    etas: (0.5, 1.2)\n",
      "    foreach: None\n",
      "    lr: 0.01\n",
      "    maximize: False\n",
      "    step_sizes: (1e-06, 50)\n",
      ")\n",
      "Training epoch 1...\n",
      "Loss: 1.6065\n",
      "Accuracy: 88.21%\n",
      "Training epoch 2...\n",
      "Loss: 2.7950\n",
      "Accuracy: 87.99%\n",
      "Training epoch 3...\n",
      "Loss: 2.6479\n",
      "Accuracy: 88.7%\n",
      "Training epoch 4...\n",
      "Loss: 2.6309\n",
      "Accuracy: 88.69%\n",
      "Training epoch 5...\n",
      "Loss: 2.3588\n",
      "Accuracy: 88.7%\n",
      "Training epoch 6...\n",
      "Loss: 2.4118\n",
      "Accuracy: 88.91%\n",
      "Training epoch 7...\n",
      "Loss: 2.4185\n",
      "Accuracy: 88.55%\n",
      "Training epoch 8...\n",
      "Loss: 2.4454\n",
      "Accuracy: 89.22%\n",
      "Training epoch 9...\n",
      "Loss: 2.2739\n",
      "Accuracy: 88.72%\n",
      "Training epoch 10...\n",
      "Loss: 2.2243\n",
      "Accuracy: 88.59%\n",
      "Training epoch 11...\n",
      "Loss: 2.2552\n",
      "Accuracy: 88.82%\n",
      "Training epoch 12...\n",
      "Loss: 2.2776\n",
      "Accuracy: 88.87%\n",
      "Training epoch 13...\n",
      "Loss: 2.5929\n",
      "Accuracy: 88.95%\n",
      "Training epoch 14...\n",
      "Loss: 2.1878\n",
      "Accuracy: 89.3%\n",
      "Training epoch 15...\n",
      "Loss: 2.1063\n",
      "Accuracy: 89.12%\n",
      "Training epoch 16...\n",
      "Loss: 2.4106\n",
      "Accuracy: 89.12%\n",
      "Training epoch 17...\n",
      "Loss: 2.3001\n",
      "Accuracy: 89.29%\n",
      "Training epoch 18...\n",
      "Loss: 2.0348\n",
      "Accuracy: 89.34%\n",
      "Training epoch 19...\n",
      "Loss: 1.9254\n",
      "Accuracy: 89.23%\n",
      "Training epoch 20...\n",
      "Loss: 2.2901\n",
      "Accuracy: 89.66%\n",
      "Training epoch 21...\n",
      "Loss: 2.0545\n",
      "Accuracy: 89.52%\n",
      "Training epoch 22...\n",
      "Loss: 2.2897\n",
      "Accuracy: 89.63%\n",
      "Training epoch 23...\n",
      "Loss: 2.0161\n",
      "Accuracy: 89.38%\n",
      "Training epoch 24...\n",
      "Loss: 2.7857\n",
      "Accuracy: 89.51%\n",
      "Training epoch 25...\n",
      "Loss: 3.9921\n",
      "Accuracy: 89.59%\n",
      "Training epoch 26...\n",
      "Loss: 3.5821\n",
      "Accuracy: 89.54%\n",
      "Training epoch 27...\n",
      "Loss: 3.4465\n",
      "Accuracy: 89.28%\n",
      "Training epoch 28...\n",
      "Loss: 3.8077\n",
      "Accuracy: 89.68%\n",
      "Training epoch 29...\n",
      "Loss: 3.2415\n",
      "Accuracy: 89.31%\n",
      "Training epoch 30...\n",
      "Loss: 3.6452\n",
      "Accuracy: 89.76%\n",
      "Training epoch 31...\n",
      "Loss: 3.1711\n",
      "Accuracy: 90.1%\n",
      "Early stopping\n"
     ]
    }
   ],
   "source": [
    "print(f'Using optim: {optimizer}')\n",
    "for epoch in range(50):\n",
    "    print(f'Training epoch {epoch+1}...')\n",
    "\n",
    "    running_loss = train_loop(running_loss=0.0, train_loader=train_loader)\n",
    "    test_loss, accuracy = test_loop(test_loader=test_loader)\n",
    "\n",
    "    print(f'Loss: {running_loss/len(train_loader):.4f}')\n",
    "    print(f'Accuracy: {accuracy}%')"
   ]
  },
  {
   "cell_type": "code",
   "execution_count": 11,
   "metadata": {},
   "outputs": [],
   "source": [
    "current_time = datetime.now().strftime(\"%Y%m%d_%H%M%S\")\n",
    "filename = f\"trained_model_{current_time}.pth\"\n",
    "\n",
    "torch.save(net.state_dict(), filename)"
   ]
  },
  {
   "cell_type": "code",
   "execution_count": 12,
   "metadata": {},
   "outputs": [
    {
     "data": {
      "text/plain": [
       "ShallowNet(\n",
       "  (flatten): Flatten(start_dim=1, end_dim=-1)\n",
       "  (fc1): Linear(in_features=784, out_features=256, bias=True)\n",
       "  (bn1): BatchNorm1d(256, eps=1e-05, momentum=0.1, affine=True, track_running_stats=True)\n",
       "  (relu): ReLU()\n",
       "  (fc2): Linear(in_features=256, out_features=10, bias=True)\n",
       ")"
      ]
     },
     "execution_count": 12,
     "metadata": {},
     "output_type": "execute_result"
    }
   ],
   "source": [
    "net = ShallowNet(n_nodes=n_nodes)\n",
    "net.load_state_dict(torch.load(filename, weights_only=True))\n",
    "net.to(device)"
   ]
  },
  {
   "cell_type": "code",
   "execution_count": 13,
   "metadata": {},
   "outputs": [
    {
     "name": "stdout",
     "output_type": "stream",
     "text": [
      "Accuracy: 89.75%\n"
     ]
    }
   ],
   "source": [
    "correct = 0\n",
    "total = 0\n",
    "\n",
    "net.eval()\n",
    "\n",
    "with torch.no_grad():\n",
    "    for data in test_loader:\n",
    "        images, labels = data\n",
    "        images, labels = images.to(device), labels.to(device)\n",
    "\n",
    "        outputs = net(images)\n",
    "        _, prediction = torch.max(outputs, 1)\n",
    "        total += labels.size(0)\n",
    "        correct += (prediction == labels).sum().item()\n",
    "\n",
    "accuracy = 100 * correct / total\n",
    "\n",
    "print(f'Accuracy: {accuracy}%')"
   ]
  }
 ],
 "metadata": {
  "kernelspec": {
   "display_name": "Python 3",
   "language": "python",
   "name": "python3"
  },
  "language_info": {
   "codemirror_mode": {
    "name": "ipython",
    "version": 3
   },
   "file_extension": ".py",
   "mimetype": "text/x-python",
   "name": "python",
   "nbconvert_exporter": "python",
   "pygments_lexer": "ipython3",
   "version": "3.12.6"
  }
 },
 "nbformat": 4,
 "nbformat_minor": 2
}
